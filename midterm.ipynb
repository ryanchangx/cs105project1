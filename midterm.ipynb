{
 "cells": [
  {
   "cell_type": "markdown",
   "metadata": {},
   "source": [
    "## Mini Project 1: \n",
    "\n",
    "### Description\n",
    "\n",
    "This project aims to observe the relationships between various students' socio-economic circumstances and overall satisfaction regarding the college experience. Exploring the relationships between said circumstances and college satisfaction allows us to conclude any impact or significance regarding these variables."
   ]
  },
  {
   "cell_type": "code",
   "execution_count": 1,
   "metadata": {},
   "outputs": [
    {
     "data": {
      "text/html": [
       "<div>\n",
       "<style scoped>\n",
       "    .dataframe tbody tr th:only-of-type {\n",
       "        vertical-align: middle;\n",
       "    }\n",
       "\n",
       "    .dataframe tbody tr th {\n",
       "        vertical-align: top;\n",
       "    }\n",
       "\n",
       "    .dataframe thead th {\n",
       "        text-align: right;\n",
       "    }\n",
       "</style>\n",
       "<table border=\"1\" class=\"dataframe\">\n",
       "  <thead>\n",
       "    <tr style=\"text-align: right;\">\n",
       "      <th></th>\n",
       "      <th>Age</th>\n",
       "      <th>Gender</th>\n",
       "      <th>GenImmigrant</th>\n",
       "      <th>CollegeYear</th>\n",
       "      <th>GPA</th>\n",
       "      <th>CurrentFeelCol</th>\n",
       "      <th>GenStudent</th>\n",
       "      <th>ParentEdu</th>\n",
       "      <th>LecRequired</th>\n",
       "      <th>LecAttended</th>\n",
       "      <th>FinAid</th>\n",
       "      <th>StudentLoans</th>\n",
       "      <th>AnnualIncome</th>\n",
       "      <th>CurrentFeelQtr</th>\n",
       "    </tr>\n",
       "  </thead>\n",
       "  <tbody>\n",
       "    <tr>\n",
       "      <th>0</th>\n",
       "      <td>22</td>\n",
       "      <td>Male</td>\n",
       "      <td>1st generation</td>\n",
       "      <td>Senior</td>\n",
       "      <td>3.0 - 3.49</td>\n",
       "      <td>3.0</td>\n",
       "      <td>1st generation (first to attend)</td>\n",
       "      <td>Masters</td>\n",
       "      <td>8.0</td>\n",
       "      <td>4</td>\n",
       "      <td>Yes</td>\n",
       "      <td>No</td>\n",
       "      <td>50k - 150k</td>\n",
       "      <td>1.0</td>\n",
       "    </tr>\n",
       "    <tr>\n",
       "      <th>1</th>\n",
       "      <td>22</td>\n",
       "      <td>Female</td>\n",
       "      <td>1st generation</td>\n",
       "      <td>Junior</td>\n",
       "      <td>3.0 - 3.49</td>\n",
       "      <td>4.0</td>\n",
       "      <td>2nd generation (parents attended college)</td>\n",
       "      <td>PhD</td>\n",
       "      <td>9.0</td>\n",
       "      <td>9</td>\n",
       "      <td>Yes</td>\n",
       "      <td>No</td>\n",
       "      <td>50k - 150k</td>\n",
       "      <td>2.0</td>\n",
       "    </tr>\n",
       "    <tr>\n",
       "      <th>2</th>\n",
       "      <td>27</td>\n",
       "      <td>Male</td>\n",
       "      <td>3rd generation or more</td>\n",
       "      <td>Senior</td>\n",
       "      <td>3.5 - 4.0</td>\n",
       "      <td>3.0</td>\n",
       "      <td>2nd generation (parents attended college)</td>\n",
       "      <td>Bachelors</td>\n",
       "      <td>8.0</td>\n",
       "      <td>7</td>\n",
       "      <td>Yes</td>\n",
       "      <td>No</td>\n",
       "      <td>Less than 50k</td>\n",
       "      <td>4.0</td>\n",
       "    </tr>\n",
       "    <tr>\n",
       "      <th>3</th>\n",
       "      <td>24</td>\n",
       "      <td>Male</td>\n",
       "      <td>1st generation</td>\n",
       "      <td>Senior</td>\n",
       "      <td>3.5 - 4.0</td>\n",
       "      <td>3.0</td>\n",
       "      <td>1st generation (first to attend)</td>\n",
       "      <td>High school</td>\n",
       "      <td>11.0</td>\n",
       "      <td>8</td>\n",
       "      <td>Yes</td>\n",
       "      <td>Yes</td>\n",
       "      <td>Less than 50k</td>\n",
       "      <td>3.0</td>\n",
       "    </tr>\n",
       "    <tr>\n",
       "      <th>4</th>\n",
       "      <td>40</td>\n",
       "      <td>Female</td>\n",
       "      <td>1st generation</td>\n",
       "      <td>Junior</td>\n",
       "      <td>0 - 1.49</td>\n",
       "      <td>3.0</td>\n",
       "      <td>1st generation (first to attend)</td>\n",
       "      <td>High school</td>\n",
       "      <td>6.0</td>\n",
       "      <td>3</td>\n",
       "      <td>Yes</td>\n",
       "      <td>Yes</td>\n",
       "      <td>Less than 50k</td>\n",
       "      <td>1.0</td>\n",
       "    </tr>\n",
       "  </tbody>\n",
       "</table>\n",
       "</div>"
      ],
      "text/plain": [
       "  Age  Gender            GenImmigrant CollegeYear         GPA  CurrentFeelCol  \\\n",
       "0  22    Male          1st generation      Senior  3.0 - 3.49             3.0   \n",
       "1  22  Female          1st generation      Junior  3.0 - 3.49             4.0   \n",
       "2  27    Male  3rd generation or more      Senior   3.5 - 4.0             3.0   \n",
       "3  24    Male          1st generation      Senior   3.5 - 4.0             3.0   \n",
       "4  40  Female          1st generation      Junior    0 - 1.49             3.0   \n",
       "\n",
       "                                  GenStudent    ParentEdu  LecRequired  \\\n",
       "0           1st generation (first to attend)      Masters          8.0   \n",
       "1  2nd generation (parents attended college)          PhD          9.0   \n",
       "2  2nd generation (parents attended college)    Bachelors          8.0   \n",
       "3           1st generation (first to attend)  High school         11.0   \n",
       "4           1st generation (first to attend)  High school          6.0   \n",
       "\n",
       "  LecAttended FinAid StudentLoans   AnnualIncome  CurrentFeelQtr  \n",
       "0           4    Yes           No     50k - 150k             1.0  \n",
       "1           9    Yes           No     50k - 150k             2.0  \n",
       "2           7    Yes           No  Less than 50k             4.0  \n",
       "3           8    Yes          Yes  Less than 50k             3.0  \n",
       "4           3    Yes          Yes  Less than 50k             1.0  "
      ]
     },
     "execution_count": 1,
     "metadata": {},
     "output_type": "execute_result"
    }
   ],
   "source": [
    "import pandas as pd\n",
    "import numpy as np\n",
    "import plotly.express as plx\n",
    "import plotly.graph_objects as go\n",
    "import seaborn as sns\n",
    "\n",
    "df = pd.read_csv('data.csv')\n",
    "\n",
    "# potential questions data frame, cleaning up column names\n",
    "pqdf = df.iloc[:, [2, 3, 7, 14, 17, 23, 31, 32, 37, 38, 50, 51, 52, 80]]\n",
    "pqdf = pqdf.rename(columns={\n",
    "    pqdf.columns[0]: 'Age',\n",
    "    pqdf.columns[1]: 'Gender',\n",
    "    pqdf.columns[2]: 'GenImmigrant',\n",
    "    pqdf.columns[3]: 'CollegeYear',\n",
    "    pqdf.columns[4]: 'GPA',\n",
    "    pqdf.columns[5]: 'CurrentFeelCol',\n",
    "    pqdf.columns[6]: 'GenStudent',\n",
    "    pqdf.columns[7]: 'ParentEdu',\n",
    "    pqdf.columns[8]: 'LecRequired',\n",
    "    pqdf.columns[9]: 'LecAttended',\n",
    "    pqdf.columns[10]: 'FinAid',\n",
    "    pqdf.columns[11]: 'StudentLoans',\n",
    "    pqdf.columns[12]: 'AnnualIncome',\n",
    "    pqdf.columns[13]: 'CurrentFeelQtr',\n",
    "})\n",
    "pqdf.head()"
   ]
  },
  {
   "cell_type": "markdown",
   "metadata": {},
   "source": [
    "### Questions 1 and 2\n",
    "<!-- To what extent do social-economic circumstances affect one's academic performance and personal satisfaction with their college experience?\n",
    "1. Gather which questions have to do with social-economic circumstances\n",
    "11. Gather questions relating to college experience/happiness\n",
    "111. Map questions from part 1 to part 2 -->\n",
    "\n",
    "#### Data\n",
    "\n",
    "The data that we are interested in aims to capture the general socio-economic background of the populous. The data collected about each participant in the survey can be categorized into the following groups:\n",
    "\n",
    "* Socio-Economic Background\n",
    "    * Age\n",
    "    * Gender\n",
    "    * Financial Aid amount\n",
    "    * Student Loans\n",
    "    * Immigrant generation\n",
    "    * College generation\n",
    "    * Highest level of education held by parents\n",
    "    * Household annual income\n",
    "* College Satisfaction/Performance\n",
    "    * Cumulative GPA\n",
    "    * College experience satisfaction levels\n",
    "    * Feelings about current quarter\n",
    "    * Stress level\n",
    "    * Lectures per week\n",
    "    * Lectures attended\n",
    "\n",
    "#### Questions\n",
    "\n",
    "\n",
    "Using this data set, we begin analysis on the following set of questions:\n",
    "\n",
    "* Does one's annual household income have an effect on GPA/College Satisfaction?\n",
    "* Can one's parents' educational experience achieved predict one's GPA/College Satisfaction?\n",
    "* "
   ]
  },
  {
   "cell_type": "markdown",
   "metadata": {},
   "source": [
    "### Cleaning Dependent Variables"
   ]
  },
  {
   "cell_type": "code",
   "execution_count": 2,
   "metadata": {},
   "outputs": [],
   "source": [
    "# Handling NA, replacing with mode\n",
    "pqdf.GPA.fillna(pqdf.GPA.value_counts().idxmax(),inplace=True)\n",
    "pqdf.CurrentFeelCol.fillna(pqdf.CurrentFeelCol.value_counts().idxmax(),inplace=True)\n",
    "pqdf.CurrentFeelCol = pqdf.CurrentFeelCol.astype(int)\n",
    "\n",
    "# Mapping GPA to group numbers\n",
    "pqdf.GPA = pd.Categorical(pqdf.GPA, ordered=True, categories=['0 - 1.49', '1.5 - 1.99', '2.0 - 2.49', '2.5 - 2.99', '3.0 - 3.49', '3.5 - 4.0'])\n",
    "pqdf['GPA_Category'] = pqdf.GPA.cat.codes"
   ]
  },
  {
   "cell_type": "markdown",
   "metadata": {},
   "source": [
    "### Parent's highest degree achieved vs. GPA/College Satisfaction"
   ]
  },
  {
   "cell_type": "code",
   "execution_count": 3,
   "metadata": {},
   "outputs": [
    {
     "name": "stdout",
     "output_type": "stream",
     "text": [
      "0         Masters\n",
      "1             PhD\n",
      "2       Bachelors\n",
      "3     High school\n",
      "4     High school\n",
      "         ...     \n",
      "59      Bachelors\n",
      "60      Bachelors\n",
      "61      Bachelors\n",
      "62      Bachelors\n",
      "63        Masters\n",
      "Name: ParentEdu, Length: 64, dtype: category\n",
      "Categories (8, object): ['Associates', 'Bachelors', 'High school', 'Masters', 'Middle School', 'Middle school', 'PhD', 'middle school'] 0 7\n"
     ]
    }
   ],
   "source": [
    "pqdf.ParentEdu.fillna(pqdf.ParentEdu.value_counts().idxmax(),inplace=True)\n",
    "pqdf.ParentEdu = pd.Categorical(pqdf.ParentEdu)\n",
    "pqdf['ParentEdu_Category'] = pqdf.ParentEdu.cat.codes\n",
    "print(pqdf.ParentEdu, pqdf.ParentEdu_Category.min(), pqdf.ParentEdu_Category.max())\n"
   ]
  },
  {
   "cell_type": "markdown",
   "metadata": {},
   "source": [
    "### Annual Income vs. GPA/College Satisfaction"
   ]
  },
  {
   "cell_type": "code",
   "execution_count": 4,
   "metadata": {},
   "outputs": [],
   "source": [
    "# Handling NA, replacing with mode\n",
    "pqdf.AnnualIncome.fillna(pqdf.AnnualIncome.value_counts().idxmax(),inplace=True)\n",
    "\n",
    "# Mapping Annual Income to group numbers\n",
    "pqdf.AnnualIncome = pd.Categorical(pqdf.AnnualIncome)\n",
    "pqdf['AnnualIncome_Category'] = pqdf.AnnualIncome.cat.codes"
   ]
  },
  {
   "cell_type": "code",
   "execution_count": 5,
   "metadata": {},
   "outputs": [
    {
     "data": {
      "application/vnd.plotly.v1+json": {
       "config": {
        "plotlyServerURL": "https://plot.ly"
       },
       "data": [
        {
         "dimensions": [
          {
           "constraintrange": [
            1,
            2
           ],
           "label": "Annual Income",
           "range": [
            0,
            2
           ],
           "ticktext": [
            "0-50k",
            "50k-150k",
            "150k+"
           ],
           "tickvals": [
            0,
            1,
            2
           ],
           "values": [
            0,
            0,
            1,
            1,
            1,
            2,
            0,
            2,
            0,
            0,
            0,
            0,
            2,
            2,
            0,
            0,
            0,
            0,
            0,
            0,
            2,
            0,
            0,
            2,
            0,
            0,
            0,
            0,
            1,
            2,
            2,
            0,
            0,
            1,
            0,
            0,
            0,
            0,
            0,
            0,
            1,
            1,
            0,
            2,
            1,
            1,
            1,
            1,
            0,
            2,
            0,
            1,
            1,
            1,
            0,
            1,
            1,
            1,
            1,
            2,
            0,
            1,
            2,
            0
           ]
          },
          {
           "label": "GPA",
           "range": [
            0,
            5
           ],
           "ticktext": [
            "0-1.49",
            "1.5-1.99",
            "2.0-2.49",
            "2.5-2.99",
            "3.0-3.49",
            "3.5-4.0"
           ],
           "tickvals": [
            0,
            1,
            2,
            3,
            4,
            5
           ],
           "values": [
            4,
            4,
            5,
            5,
            0,
            5,
            5,
            5,
            5,
            5,
            3,
            5,
            5,
            5,
            4,
            5,
            5,
            4,
            4,
            4,
            4,
            5,
            5,
            5,
            5,
            4,
            4,
            5,
            4,
            5,
            5,
            0,
            5,
            5,
            5,
            4,
            5,
            5,
            4,
            5,
            2,
            5,
            5,
            4,
            3,
            4,
            5,
            5,
            5,
            3,
            4,
            4,
            4,
            5,
            3,
            4,
            5,
            5,
            3,
            3,
            5,
            4,
            4,
            5
           ]
          },
          {
           "label": "College Satisfaction",
           "range": [
            1,
            5
           ],
           "ticktext": [
            "Dissatisfied",
            "Slightly Dissatisfied",
            "Neutral",
            "Somewhat Satisfied",
            "Satisfied"
           ],
           "tickvals": [
            1,
            2,
            3,
            4,
            5
           ],
           "values": [
            3,
            4,
            3,
            3,
            3,
            4,
            5,
            4,
            4,
            3,
            3,
            3,
            4,
            3,
            3,
            3,
            2,
            3,
            4,
            4,
            4,
            3,
            3,
            4,
            4,
            3,
            1,
            4,
            2,
            4,
            3,
            4,
            4,
            3,
            3,
            2,
            3,
            3,
            4,
            4,
            2,
            4,
            4,
            4,
            1,
            5,
            5,
            4,
            3,
            3,
            3,
            4,
            2,
            4,
            4,
            2,
            5,
            2,
            3,
            4,
            3,
            3,
            3,
            4
           ]
          }
         ],
         "line": {
          "color": [
           0,
           0,
           1,
           1,
           1,
           2,
           0,
           2,
           0,
           0,
           0,
           0,
           2,
           2,
           0,
           0,
           0,
           0,
           0,
           0,
           2,
           0,
           0,
           2,
           0,
           0,
           0,
           0,
           1,
           2,
           2,
           0,
           0,
           1,
           0,
           0,
           0,
           0,
           0,
           0,
           1,
           1,
           0,
           2,
           1,
           1,
           1,
           1,
           0,
           2,
           0,
           1,
           1,
           1,
           0,
           1,
           1,
           1,
           1,
           2,
           0,
           1,
           2,
           0
          ]
         },
         "type": "parcoords"
        }
       ],
       "layout": {
        "template": {
         "data": {
          "bar": [
           {
            "error_x": {
             "color": "#2a3f5f"
            },
            "error_y": {
             "color": "#2a3f5f"
            },
            "marker": {
             "line": {
              "color": "#E5ECF6",
              "width": 0.5
             },
             "pattern": {
              "fillmode": "overlay",
              "size": 10,
              "solidity": 0.2
             }
            },
            "type": "bar"
           }
          ],
          "barpolar": [
           {
            "marker": {
             "line": {
              "color": "#E5ECF6",
              "width": 0.5
             },
             "pattern": {
              "fillmode": "overlay",
              "size": 10,
              "solidity": 0.2
             }
            },
            "type": "barpolar"
           }
          ],
          "carpet": [
           {
            "aaxis": {
             "endlinecolor": "#2a3f5f",
             "gridcolor": "white",
             "linecolor": "white",
             "minorgridcolor": "white",
             "startlinecolor": "#2a3f5f"
            },
            "baxis": {
             "endlinecolor": "#2a3f5f",
             "gridcolor": "white",
             "linecolor": "white",
             "minorgridcolor": "white",
             "startlinecolor": "#2a3f5f"
            },
            "type": "carpet"
           }
          ],
          "choropleth": [
           {
            "colorbar": {
             "outlinewidth": 0,
             "ticks": ""
            },
            "type": "choropleth"
           }
          ],
          "contour": [
           {
            "colorbar": {
             "outlinewidth": 0,
             "ticks": ""
            },
            "colorscale": [
             [
              0,
              "#0d0887"
             ],
             [
              0.1111111111111111,
              "#46039f"
             ],
             [
              0.2222222222222222,
              "#7201a8"
             ],
             [
              0.3333333333333333,
              "#9c179e"
             ],
             [
              0.4444444444444444,
              "#bd3786"
             ],
             [
              0.5555555555555556,
              "#d8576b"
             ],
             [
              0.6666666666666666,
              "#ed7953"
             ],
             [
              0.7777777777777778,
              "#fb9f3a"
             ],
             [
              0.8888888888888888,
              "#fdca26"
             ],
             [
              1,
              "#f0f921"
             ]
            ],
            "type": "contour"
           }
          ],
          "contourcarpet": [
           {
            "colorbar": {
             "outlinewidth": 0,
             "ticks": ""
            },
            "type": "contourcarpet"
           }
          ],
          "heatmap": [
           {
            "colorbar": {
             "outlinewidth": 0,
             "ticks": ""
            },
            "colorscale": [
             [
              0,
              "#0d0887"
             ],
             [
              0.1111111111111111,
              "#46039f"
             ],
             [
              0.2222222222222222,
              "#7201a8"
             ],
             [
              0.3333333333333333,
              "#9c179e"
             ],
             [
              0.4444444444444444,
              "#bd3786"
             ],
             [
              0.5555555555555556,
              "#d8576b"
             ],
             [
              0.6666666666666666,
              "#ed7953"
             ],
             [
              0.7777777777777778,
              "#fb9f3a"
             ],
             [
              0.8888888888888888,
              "#fdca26"
             ],
             [
              1,
              "#f0f921"
             ]
            ],
            "type": "heatmap"
           }
          ],
          "heatmapgl": [
           {
            "colorbar": {
             "outlinewidth": 0,
             "ticks": ""
            },
            "colorscale": [
             [
              0,
              "#0d0887"
             ],
             [
              0.1111111111111111,
              "#46039f"
             ],
             [
              0.2222222222222222,
              "#7201a8"
             ],
             [
              0.3333333333333333,
              "#9c179e"
             ],
             [
              0.4444444444444444,
              "#bd3786"
             ],
             [
              0.5555555555555556,
              "#d8576b"
             ],
             [
              0.6666666666666666,
              "#ed7953"
             ],
             [
              0.7777777777777778,
              "#fb9f3a"
             ],
             [
              0.8888888888888888,
              "#fdca26"
             ],
             [
              1,
              "#f0f921"
             ]
            ],
            "type": "heatmapgl"
           }
          ],
          "histogram": [
           {
            "marker": {
             "pattern": {
              "fillmode": "overlay",
              "size": 10,
              "solidity": 0.2
             }
            },
            "type": "histogram"
           }
          ],
          "histogram2d": [
           {
            "colorbar": {
             "outlinewidth": 0,
             "ticks": ""
            },
            "colorscale": [
             [
              0,
              "#0d0887"
             ],
             [
              0.1111111111111111,
              "#46039f"
             ],
             [
              0.2222222222222222,
              "#7201a8"
             ],
             [
              0.3333333333333333,
              "#9c179e"
             ],
             [
              0.4444444444444444,
              "#bd3786"
             ],
             [
              0.5555555555555556,
              "#d8576b"
             ],
             [
              0.6666666666666666,
              "#ed7953"
             ],
             [
              0.7777777777777778,
              "#fb9f3a"
             ],
             [
              0.8888888888888888,
              "#fdca26"
             ],
             [
              1,
              "#f0f921"
             ]
            ],
            "type": "histogram2d"
           }
          ],
          "histogram2dcontour": [
           {
            "colorbar": {
             "outlinewidth": 0,
             "ticks": ""
            },
            "colorscale": [
             [
              0,
              "#0d0887"
             ],
             [
              0.1111111111111111,
              "#46039f"
             ],
             [
              0.2222222222222222,
              "#7201a8"
             ],
             [
              0.3333333333333333,
              "#9c179e"
             ],
             [
              0.4444444444444444,
              "#bd3786"
             ],
             [
              0.5555555555555556,
              "#d8576b"
             ],
             [
              0.6666666666666666,
              "#ed7953"
             ],
             [
              0.7777777777777778,
              "#fb9f3a"
             ],
             [
              0.8888888888888888,
              "#fdca26"
             ],
             [
              1,
              "#f0f921"
             ]
            ],
            "type": "histogram2dcontour"
           }
          ],
          "mesh3d": [
           {
            "colorbar": {
             "outlinewidth": 0,
             "ticks": ""
            },
            "type": "mesh3d"
           }
          ],
          "parcoords": [
           {
            "line": {
             "colorbar": {
              "outlinewidth": 0,
              "ticks": ""
             }
            },
            "type": "parcoords"
           }
          ],
          "pie": [
           {
            "automargin": true,
            "type": "pie"
           }
          ],
          "scatter": [
           {
            "marker": {
             "colorbar": {
              "outlinewidth": 0,
              "ticks": ""
             }
            },
            "type": "scatter"
           }
          ],
          "scatter3d": [
           {
            "line": {
             "colorbar": {
              "outlinewidth": 0,
              "ticks": ""
             }
            },
            "marker": {
             "colorbar": {
              "outlinewidth": 0,
              "ticks": ""
             }
            },
            "type": "scatter3d"
           }
          ],
          "scattercarpet": [
           {
            "marker": {
             "colorbar": {
              "outlinewidth": 0,
              "ticks": ""
             }
            },
            "type": "scattercarpet"
           }
          ],
          "scattergeo": [
           {
            "marker": {
             "colorbar": {
              "outlinewidth": 0,
              "ticks": ""
             }
            },
            "type": "scattergeo"
           }
          ],
          "scattergl": [
           {
            "marker": {
             "colorbar": {
              "outlinewidth": 0,
              "ticks": ""
             }
            },
            "type": "scattergl"
           }
          ],
          "scattermapbox": [
           {
            "marker": {
             "colorbar": {
              "outlinewidth": 0,
              "ticks": ""
             }
            },
            "type": "scattermapbox"
           }
          ],
          "scatterpolar": [
           {
            "marker": {
             "colorbar": {
              "outlinewidth": 0,
              "ticks": ""
             }
            },
            "type": "scatterpolar"
           }
          ],
          "scatterpolargl": [
           {
            "marker": {
             "colorbar": {
              "outlinewidth": 0,
              "ticks": ""
             }
            },
            "type": "scatterpolargl"
           }
          ],
          "scatterternary": [
           {
            "marker": {
             "colorbar": {
              "outlinewidth": 0,
              "ticks": ""
             }
            },
            "type": "scatterternary"
           }
          ],
          "surface": [
           {
            "colorbar": {
             "outlinewidth": 0,
             "ticks": ""
            },
            "colorscale": [
             [
              0,
              "#0d0887"
             ],
             [
              0.1111111111111111,
              "#46039f"
             ],
             [
              0.2222222222222222,
              "#7201a8"
             ],
             [
              0.3333333333333333,
              "#9c179e"
             ],
             [
              0.4444444444444444,
              "#bd3786"
             ],
             [
              0.5555555555555556,
              "#d8576b"
             ],
             [
              0.6666666666666666,
              "#ed7953"
             ],
             [
              0.7777777777777778,
              "#fb9f3a"
             ],
             [
              0.8888888888888888,
              "#fdca26"
             ],
             [
              1,
              "#f0f921"
             ]
            ],
            "type": "surface"
           }
          ],
          "table": [
           {
            "cells": {
             "fill": {
              "color": "#EBF0F8"
             },
             "line": {
              "color": "white"
             }
            },
            "header": {
             "fill": {
              "color": "#C8D4E3"
             },
             "line": {
              "color": "white"
             }
            },
            "type": "table"
           }
          ]
         },
         "layout": {
          "annotationdefaults": {
           "arrowcolor": "#2a3f5f",
           "arrowhead": 0,
           "arrowwidth": 1
          },
          "autotypenumbers": "strict",
          "coloraxis": {
           "colorbar": {
            "outlinewidth": 0,
            "ticks": ""
           }
          },
          "colorscale": {
           "diverging": [
            [
             0,
             "#8e0152"
            ],
            [
             0.1,
             "#c51b7d"
            ],
            [
             0.2,
             "#de77ae"
            ],
            [
             0.3,
             "#f1b6da"
            ],
            [
             0.4,
             "#fde0ef"
            ],
            [
             0.5,
             "#f7f7f7"
            ],
            [
             0.6,
             "#e6f5d0"
            ],
            [
             0.7,
             "#b8e186"
            ],
            [
             0.8,
             "#7fbc41"
            ],
            [
             0.9,
             "#4d9221"
            ],
            [
             1,
             "#276419"
            ]
           ],
           "sequential": [
            [
             0,
             "#0d0887"
            ],
            [
             0.1111111111111111,
             "#46039f"
            ],
            [
             0.2222222222222222,
             "#7201a8"
            ],
            [
             0.3333333333333333,
             "#9c179e"
            ],
            [
             0.4444444444444444,
             "#bd3786"
            ],
            [
             0.5555555555555556,
             "#d8576b"
            ],
            [
             0.6666666666666666,
             "#ed7953"
            ],
            [
             0.7777777777777778,
             "#fb9f3a"
            ],
            [
             0.8888888888888888,
             "#fdca26"
            ],
            [
             1,
             "#f0f921"
            ]
           ],
           "sequentialminus": [
            [
             0,
             "#0d0887"
            ],
            [
             0.1111111111111111,
             "#46039f"
            ],
            [
             0.2222222222222222,
             "#7201a8"
            ],
            [
             0.3333333333333333,
             "#9c179e"
            ],
            [
             0.4444444444444444,
             "#bd3786"
            ],
            [
             0.5555555555555556,
             "#d8576b"
            ],
            [
             0.6666666666666666,
             "#ed7953"
            ],
            [
             0.7777777777777778,
             "#fb9f3a"
            ],
            [
             0.8888888888888888,
             "#fdca26"
            ],
            [
             1,
             "#f0f921"
            ]
           ]
          },
          "colorway": [
           "#636efa",
           "#EF553B",
           "#00cc96",
           "#ab63fa",
           "#FFA15A",
           "#19d3f3",
           "#FF6692",
           "#B6E880",
           "#FF97FF",
           "#FECB52"
          ],
          "font": {
           "color": "#2a3f5f"
          },
          "geo": {
           "bgcolor": "white",
           "lakecolor": "white",
           "landcolor": "#E5ECF6",
           "showlakes": true,
           "showland": true,
           "subunitcolor": "white"
          },
          "hoverlabel": {
           "align": "left"
          },
          "hovermode": "closest",
          "mapbox": {
           "style": "light"
          },
          "paper_bgcolor": "white",
          "plot_bgcolor": "#E5ECF6",
          "polar": {
           "angularaxis": {
            "gridcolor": "white",
            "linecolor": "white",
            "ticks": ""
           },
           "bgcolor": "#E5ECF6",
           "radialaxis": {
            "gridcolor": "white",
            "linecolor": "white",
            "ticks": ""
           }
          },
          "scene": {
           "xaxis": {
            "backgroundcolor": "#E5ECF6",
            "gridcolor": "white",
            "gridwidth": 2,
            "linecolor": "white",
            "showbackground": true,
            "ticks": "",
            "zerolinecolor": "white"
           },
           "yaxis": {
            "backgroundcolor": "#E5ECF6",
            "gridcolor": "white",
            "gridwidth": 2,
            "linecolor": "white",
            "showbackground": true,
            "ticks": "",
            "zerolinecolor": "white"
           },
           "zaxis": {
            "backgroundcolor": "#E5ECF6",
            "gridcolor": "white",
            "gridwidth": 2,
            "linecolor": "white",
            "showbackground": true,
            "ticks": "",
            "zerolinecolor": "white"
           }
          },
          "shapedefaults": {
           "line": {
            "color": "#2a3f5f"
           }
          },
          "ternary": {
           "aaxis": {
            "gridcolor": "white",
            "linecolor": "white",
            "ticks": ""
           },
           "baxis": {
            "gridcolor": "white",
            "linecolor": "white",
            "ticks": ""
           },
           "bgcolor": "#E5ECF6",
           "caxis": {
            "gridcolor": "white",
            "linecolor": "white",
            "ticks": ""
           }
          },
          "title": {
           "x": 0.05
          },
          "xaxis": {
           "automargin": true,
           "gridcolor": "white",
           "linecolor": "white",
           "ticks": "",
           "title": {
            "standoff": 15
           },
           "zerolinecolor": "white",
           "zerolinewidth": 2
          },
          "yaxis": {
           "automargin": true,
           "gridcolor": "white",
           "linecolor": "white",
           "ticks": "",
           "title": {
            "standoff": 15
           },
           "zerolinecolor": "white",
           "zerolinewidth": 2
          }
         }
        }
       }
      }
     },
     "metadata": {},
     "output_type": "display_data"
    }
   ],
   "source": [
    "fig2 = go.Figure(data=\n",
    "    go.Parcoords(\n",
    "        line = dict(color = pqdf[\"AnnualIncome_Category\"]),\n",
    "        dimensions = list([\n",
    "            dict(range = [0,2], \n",
    "                constraintrange = [1,2],\n",
    "                tickvals = [0,1,2],   \n",
    "                label = 'Annual Income', values = pqdf.loc[:, \"AnnualIncome_Category\"],\n",
    "                ticktext = ['0-50k', '50k-150k', '150k+']),\n",
    "            dict(range = [0,5],\n",
    "                tickvals = [0,1,2,3,4,5],\n",
    "                label = 'GPA', values = pqdf.loc[:, \"GPA_Category\"],\n",
    "                ticktext= [\"0-1.49\", \"1.5-1.99\", \"2.0-2.49\", \"2.5-2.99\", \"3.0-3.49\", \"3.5-4.0\"]),\n",
    "            dict(range = [1,5],\n",
    "                tickvals = [1,2,3,4,5],\n",
    "                label = 'College Satisfaction', values = pqdf.loc[:,\"CurrentFeelCol\"],\n",
    "                ticktext = ['Dissatisfied', \"Slightly Dissatisfied\", \"Neutral\", \"Somewhat Satisfied\", \"Satisfied\"]),\n",
    "        ])\n",
    "    )\n",
    ")\n",
    "fig2.show()"
   ]
  },
  {
   "cell_type": "code",
   "execution_count": 6,
   "metadata": {},
   "outputs": [
    {
     "data": {
      "application/vnd.plotly.v1+json": {
       "config": {
        "plotlyServerURL": "https://plot.ly"
       },
       "data": [
        {
         "arrangement": "freeform",
         "dimensions": [
          {
           "label": "Annual Income",
           "values": [
            "50k - 150k",
            "50k - 150k",
            "Less than 50k",
            "Less than 50k",
            "Less than 50k",
            "More than 150k",
            "50k - 150k",
            "More than 150k",
            "50k - 150k",
            "50k - 150k",
            "50k - 150k",
            "50k - 150k",
            "More than 150k",
            "More than 150k",
            "50k - 150k",
            "50k - 150k",
            "50k - 150k",
            "50k - 150k",
            "50k - 150k",
            "50k - 150k",
            "More than 150k",
            "50k - 150k",
            "50k - 150k",
            "More than 150k",
            "50k - 150k",
            "50k - 150k",
            "50k - 150k",
            "50k - 150k",
            "Less than 50k",
            "More than 150k",
            "More than 150k",
            "50k - 150k",
            "50k - 150k",
            "Less than 50k",
            "50k - 150k",
            "50k - 150k",
            "50k - 150k",
            "50k - 150k",
            "50k - 150k",
            "50k - 150k",
            "Less than 50k",
            "Less than 50k",
            "50k - 150k",
            "More than 150k",
            "Less than 50k",
            "Less than 50k",
            "Less than 50k",
            "Less than 50k",
            "50k - 150k",
            "More than 150k",
            "50k - 150k",
            "Less than 50k",
            "Less than 50k",
            "Less than 50k",
            "50k - 150k",
            "Less than 50k",
            "Less than 50k",
            "Less than 50k",
            "Less than 50k",
            "More than 150k",
            "50k - 150k",
            "Less than 50k",
            "More than 150k",
            "50k - 150k"
           ]
          },
          {
           "label": "GPA",
           "values": [
            "3.0 - 3.49",
            "3.0 - 3.49",
            "3.5 - 4.0",
            "3.5 - 4.0",
            "0 - 1.49",
            "3.5 - 4.0",
            "3.5 - 4.0",
            "3.5 - 4.0",
            "3.5 - 4.0",
            "3.5 - 4.0",
            "2.5 - 2.99",
            "3.5 - 4.0",
            "3.5 - 4.0",
            "3.5 - 4.0",
            "3.0 - 3.49",
            "3.5 - 4.0",
            "3.5 - 4.0",
            "3.0 - 3.49",
            "3.0 - 3.49",
            "3.0 - 3.49",
            "3.0 - 3.49",
            "3.5 - 4.0",
            "3.5 - 4.0",
            "3.5 - 4.0",
            "3.5 - 4.0",
            "3.0 - 3.49",
            "3.0 - 3.49",
            "3.5 - 4.0",
            "3.0 - 3.49",
            "3.5 - 4.0",
            "3.5 - 4.0",
            "0 - 1.49",
            "3.5 - 4.0",
            "3.5 - 4.0",
            "3.5 - 4.0",
            "3.0 - 3.49",
            "3.5 - 4.0",
            "3.5 - 4.0",
            "3.0 - 3.49",
            "3.5 - 4.0",
            "2.0 - 2.49",
            "3.5 - 4.0",
            "3.5 - 4.0",
            "3.0 - 3.49",
            "2.5 - 2.99",
            "3.0 - 3.49",
            "3.5 - 4.0",
            "3.5 - 4.0",
            "3.5 - 4.0",
            "2.5 - 2.99",
            "3.0 - 3.49",
            "3.0 - 3.49",
            "3.0 - 3.49",
            "3.5 - 4.0",
            "2.5 - 2.99",
            "3.0 - 3.49",
            "3.5 - 4.0",
            "3.5 - 4.0",
            "2.5 - 2.99",
            "2.5 - 2.99",
            "3.5 - 4.0",
            "3.0 - 3.49",
            "3.0 - 3.49",
            "3.5 - 4.0"
           ]
          },
          {
           "categoryarray": [
            1,
            2,
            3,
            4,
            5
           ],
           "label": "Satisfaction",
           "ticktext": [
            "Dissatisfied",
            "Slightly Dissatisfied",
            "Neutral",
            "Somewhat Satisfied",
            "Satisfied"
           ],
           "values": [
            3,
            4,
            3,
            3,
            3,
            4,
            5,
            4,
            4,
            3,
            3,
            3,
            4,
            3,
            3,
            3,
            2,
            3,
            4,
            4,
            4,
            3,
            3,
            4,
            4,
            3,
            1,
            4,
            2,
            4,
            3,
            4,
            4,
            3,
            3,
            2,
            3,
            3,
            4,
            4,
            2,
            4,
            4,
            4,
            1,
            5,
            5,
            4,
            3,
            3,
            3,
            4,
            2,
            4,
            4,
            2,
            5,
            2,
            3,
            4,
            3,
            3,
            3,
            4
           ]
          }
         ],
         "hoverinfo": "count+probability",
         "hoveron": "category",
         "labelfont": {
          "family": "Times",
          "size": 18
         },
         "line": {
          "color": [
           3,
           4,
           3,
           3,
           3,
           4,
           5,
           4,
           4,
           3,
           3,
           3,
           4,
           3,
           3,
           3,
           2,
           3,
           4,
           4,
           4,
           3,
           3,
           4,
           4,
           3,
           1,
           4,
           2,
           4,
           3,
           4,
           4,
           3,
           3,
           2,
           3,
           3,
           4,
           4,
           2,
           4,
           4,
           4,
           1,
           5,
           5,
           4,
           3,
           3,
           3,
           4,
           2,
           4,
           4,
           2,
           5,
           2,
           3,
           4,
           3,
           3,
           3,
           4
          ]
         },
         "tickfont": {
          "family": "Times",
          "size": 16
         },
         "type": "parcats"
        }
       ],
       "layout": {
        "template": {
         "data": {
          "bar": [
           {
            "error_x": {
             "color": "#2a3f5f"
            },
            "error_y": {
             "color": "#2a3f5f"
            },
            "marker": {
             "line": {
              "color": "#E5ECF6",
              "width": 0.5
             },
             "pattern": {
              "fillmode": "overlay",
              "size": 10,
              "solidity": 0.2
             }
            },
            "type": "bar"
           }
          ],
          "barpolar": [
           {
            "marker": {
             "line": {
              "color": "#E5ECF6",
              "width": 0.5
             },
             "pattern": {
              "fillmode": "overlay",
              "size": 10,
              "solidity": 0.2
             }
            },
            "type": "barpolar"
           }
          ],
          "carpet": [
           {
            "aaxis": {
             "endlinecolor": "#2a3f5f",
             "gridcolor": "white",
             "linecolor": "white",
             "minorgridcolor": "white",
             "startlinecolor": "#2a3f5f"
            },
            "baxis": {
             "endlinecolor": "#2a3f5f",
             "gridcolor": "white",
             "linecolor": "white",
             "minorgridcolor": "white",
             "startlinecolor": "#2a3f5f"
            },
            "type": "carpet"
           }
          ],
          "choropleth": [
           {
            "colorbar": {
             "outlinewidth": 0,
             "ticks": ""
            },
            "type": "choropleth"
           }
          ],
          "contour": [
           {
            "colorbar": {
             "outlinewidth": 0,
             "ticks": ""
            },
            "colorscale": [
             [
              0,
              "#0d0887"
             ],
             [
              0.1111111111111111,
              "#46039f"
             ],
             [
              0.2222222222222222,
              "#7201a8"
             ],
             [
              0.3333333333333333,
              "#9c179e"
             ],
             [
              0.4444444444444444,
              "#bd3786"
             ],
             [
              0.5555555555555556,
              "#d8576b"
             ],
             [
              0.6666666666666666,
              "#ed7953"
             ],
             [
              0.7777777777777778,
              "#fb9f3a"
             ],
             [
              0.8888888888888888,
              "#fdca26"
             ],
             [
              1,
              "#f0f921"
             ]
            ],
            "type": "contour"
           }
          ],
          "contourcarpet": [
           {
            "colorbar": {
             "outlinewidth": 0,
             "ticks": ""
            },
            "type": "contourcarpet"
           }
          ],
          "heatmap": [
           {
            "colorbar": {
             "outlinewidth": 0,
             "ticks": ""
            },
            "colorscale": [
             [
              0,
              "#0d0887"
             ],
             [
              0.1111111111111111,
              "#46039f"
             ],
             [
              0.2222222222222222,
              "#7201a8"
             ],
             [
              0.3333333333333333,
              "#9c179e"
             ],
             [
              0.4444444444444444,
              "#bd3786"
             ],
             [
              0.5555555555555556,
              "#d8576b"
             ],
             [
              0.6666666666666666,
              "#ed7953"
             ],
             [
              0.7777777777777778,
              "#fb9f3a"
             ],
             [
              0.8888888888888888,
              "#fdca26"
             ],
             [
              1,
              "#f0f921"
             ]
            ],
            "type": "heatmap"
           }
          ],
          "heatmapgl": [
           {
            "colorbar": {
             "outlinewidth": 0,
             "ticks": ""
            },
            "colorscale": [
             [
              0,
              "#0d0887"
             ],
             [
              0.1111111111111111,
              "#46039f"
             ],
             [
              0.2222222222222222,
              "#7201a8"
             ],
             [
              0.3333333333333333,
              "#9c179e"
             ],
             [
              0.4444444444444444,
              "#bd3786"
             ],
             [
              0.5555555555555556,
              "#d8576b"
             ],
             [
              0.6666666666666666,
              "#ed7953"
             ],
             [
              0.7777777777777778,
              "#fb9f3a"
             ],
             [
              0.8888888888888888,
              "#fdca26"
             ],
             [
              1,
              "#f0f921"
             ]
            ],
            "type": "heatmapgl"
           }
          ],
          "histogram": [
           {
            "marker": {
             "pattern": {
              "fillmode": "overlay",
              "size": 10,
              "solidity": 0.2
             }
            },
            "type": "histogram"
           }
          ],
          "histogram2d": [
           {
            "colorbar": {
             "outlinewidth": 0,
             "ticks": ""
            },
            "colorscale": [
             [
              0,
              "#0d0887"
             ],
             [
              0.1111111111111111,
              "#46039f"
             ],
             [
              0.2222222222222222,
              "#7201a8"
             ],
             [
              0.3333333333333333,
              "#9c179e"
             ],
             [
              0.4444444444444444,
              "#bd3786"
             ],
             [
              0.5555555555555556,
              "#d8576b"
             ],
             [
              0.6666666666666666,
              "#ed7953"
             ],
             [
              0.7777777777777778,
              "#fb9f3a"
             ],
             [
              0.8888888888888888,
              "#fdca26"
             ],
             [
              1,
              "#f0f921"
             ]
            ],
            "type": "histogram2d"
           }
          ],
          "histogram2dcontour": [
           {
            "colorbar": {
             "outlinewidth": 0,
             "ticks": ""
            },
            "colorscale": [
             [
              0,
              "#0d0887"
             ],
             [
              0.1111111111111111,
              "#46039f"
             ],
             [
              0.2222222222222222,
              "#7201a8"
             ],
             [
              0.3333333333333333,
              "#9c179e"
             ],
             [
              0.4444444444444444,
              "#bd3786"
             ],
             [
              0.5555555555555556,
              "#d8576b"
             ],
             [
              0.6666666666666666,
              "#ed7953"
             ],
             [
              0.7777777777777778,
              "#fb9f3a"
             ],
             [
              0.8888888888888888,
              "#fdca26"
             ],
             [
              1,
              "#f0f921"
             ]
            ],
            "type": "histogram2dcontour"
           }
          ],
          "mesh3d": [
           {
            "colorbar": {
             "outlinewidth": 0,
             "ticks": ""
            },
            "type": "mesh3d"
           }
          ],
          "parcoords": [
           {
            "line": {
             "colorbar": {
              "outlinewidth": 0,
              "ticks": ""
             }
            },
            "type": "parcoords"
           }
          ],
          "pie": [
           {
            "automargin": true,
            "type": "pie"
           }
          ],
          "scatter": [
           {
            "marker": {
             "colorbar": {
              "outlinewidth": 0,
              "ticks": ""
             }
            },
            "type": "scatter"
           }
          ],
          "scatter3d": [
           {
            "line": {
             "colorbar": {
              "outlinewidth": 0,
              "ticks": ""
             }
            },
            "marker": {
             "colorbar": {
              "outlinewidth": 0,
              "ticks": ""
             }
            },
            "type": "scatter3d"
           }
          ],
          "scattercarpet": [
           {
            "marker": {
             "colorbar": {
              "outlinewidth": 0,
              "ticks": ""
             }
            },
            "type": "scattercarpet"
           }
          ],
          "scattergeo": [
           {
            "marker": {
             "colorbar": {
              "outlinewidth": 0,
              "ticks": ""
             }
            },
            "type": "scattergeo"
           }
          ],
          "scattergl": [
           {
            "marker": {
             "colorbar": {
              "outlinewidth": 0,
              "ticks": ""
             }
            },
            "type": "scattergl"
           }
          ],
          "scattermapbox": [
           {
            "marker": {
             "colorbar": {
              "outlinewidth": 0,
              "ticks": ""
             }
            },
            "type": "scattermapbox"
           }
          ],
          "scatterpolar": [
           {
            "marker": {
             "colorbar": {
              "outlinewidth": 0,
              "ticks": ""
             }
            },
            "type": "scatterpolar"
           }
          ],
          "scatterpolargl": [
           {
            "marker": {
             "colorbar": {
              "outlinewidth": 0,
              "ticks": ""
             }
            },
            "type": "scatterpolargl"
           }
          ],
          "scatterternary": [
           {
            "marker": {
             "colorbar": {
              "outlinewidth": 0,
              "ticks": ""
             }
            },
            "type": "scatterternary"
           }
          ],
          "surface": [
           {
            "colorbar": {
             "outlinewidth": 0,
             "ticks": ""
            },
            "colorscale": [
             [
              0,
              "#0d0887"
             ],
             [
              0.1111111111111111,
              "#46039f"
             ],
             [
              0.2222222222222222,
              "#7201a8"
             ],
             [
              0.3333333333333333,
              "#9c179e"
             ],
             [
              0.4444444444444444,
              "#bd3786"
             ],
             [
              0.5555555555555556,
              "#d8576b"
             ],
             [
              0.6666666666666666,
              "#ed7953"
             ],
             [
              0.7777777777777778,
              "#fb9f3a"
             ],
             [
              0.8888888888888888,
              "#fdca26"
             ],
             [
              1,
              "#f0f921"
             ]
            ],
            "type": "surface"
           }
          ],
          "table": [
           {
            "cells": {
             "fill": {
              "color": "#EBF0F8"
             },
             "line": {
              "color": "white"
             }
            },
            "header": {
             "fill": {
              "color": "#C8D4E3"
             },
             "line": {
              "color": "white"
             }
            },
            "type": "table"
           }
          ]
         },
         "layout": {
          "annotationdefaults": {
           "arrowcolor": "#2a3f5f",
           "arrowhead": 0,
           "arrowwidth": 1
          },
          "autotypenumbers": "strict",
          "coloraxis": {
           "colorbar": {
            "outlinewidth": 0,
            "ticks": ""
           }
          },
          "colorscale": {
           "diverging": [
            [
             0,
             "#8e0152"
            ],
            [
             0.1,
             "#c51b7d"
            ],
            [
             0.2,
             "#de77ae"
            ],
            [
             0.3,
             "#f1b6da"
            ],
            [
             0.4,
             "#fde0ef"
            ],
            [
             0.5,
             "#f7f7f7"
            ],
            [
             0.6,
             "#e6f5d0"
            ],
            [
             0.7,
             "#b8e186"
            ],
            [
             0.8,
             "#7fbc41"
            ],
            [
             0.9,
             "#4d9221"
            ],
            [
             1,
             "#276419"
            ]
           ],
           "sequential": [
            [
             0,
             "#0d0887"
            ],
            [
             0.1111111111111111,
             "#46039f"
            ],
            [
             0.2222222222222222,
             "#7201a8"
            ],
            [
             0.3333333333333333,
             "#9c179e"
            ],
            [
             0.4444444444444444,
             "#bd3786"
            ],
            [
             0.5555555555555556,
             "#d8576b"
            ],
            [
             0.6666666666666666,
             "#ed7953"
            ],
            [
             0.7777777777777778,
             "#fb9f3a"
            ],
            [
             0.8888888888888888,
             "#fdca26"
            ],
            [
             1,
             "#f0f921"
            ]
           ],
           "sequentialminus": [
            [
             0,
             "#0d0887"
            ],
            [
             0.1111111111111111,
             "#46039f"
            ],
            [
             0.2222222222222222,
             "#7201a8"
            ],
            [
             0.3333333333333333,
             "#9c179e"
            ],
            [
             0.4444444444444444,
             "#bd3786"
            ],
            [
             0.5555555555555556,
             "#d8576b"
            ],
            [
             0.6666666666666666,
             "#ed7953"
            ],
            [
             0.7777777777777778,
             "#fb9f3a"
            ],
            [
             0.8888888888888888,
             "#fdca26"
            ],
            [
             1,
             "#f0f921"
            ]
           ]
          },
          "colorway": [
           "#636efa",
           "#EF553B",
           "#00cc96",
           "#ab63fa",
           "#FFA15A",
           "#19d3f3",
           "#FF6692",
           "#B6E880",
           "#FF97FF",
           "#FECB52"
          ],
          "font": {
           "color": "#2a3f5f"
          },
          "geo": {
           "bgcolor": "white",
           "lakecolor": "white",
           "landcolor": "#E5ECF6",
           "showlakes": true,
           "showland": true,
           "subunitcolor": "white"
          },
          "hoverlabel": {
           "align": "left"
          },
          "hovermode": "closest",
          "mapbox": {
           "style": "light"
          },
          "paper_bgcolor": "white",
          "plot_bgcolor": "#E5ECF6",
          "polar": {
           "angularaxis": {
            "gridcolor": "white",
            "linecolor": "white",
            "ticks": ""
           },
           "bgcolor": "#E5ECF6",
           "radialaxis": {
            "gridcolor": "white",
            "linecolor": "white",
            "ticks": ""
           }
          },
          "scene": {
           "xaxis": {
            "backgroundcolor": "#E5ECF6",
            "gridcolor": "white",
            "gridwidth": 2,
            "linecolor": "white",
            "showbackground": true,
            "ticks": "",
            "zerolinecolor": "white"
           },
           "yaxis": {
            "backgroundcolor": "#E5ECF6",
            "gridcolor": "white",
            "gridwidth": 2,
            "linecolor": "white",
            "showbackground": true,
            "ticks": "",
            "zerolinecolor": "white"
           },
           "zaxis": {
            "backgroundcolor": "#E5ECF6",
            "gridcolor": "white",
            "gridwidth": 2,
            "linecolor": "white",
            "showbackground": true,
            "ticks": "",
            "zerolinecolor": "white"
           }
          },
          "shapedefaults": {
           "line": {
            "color": "#2a3f5f"
           }
          },
          "ternary": {
           "aaxis": {
            "gridcolor": "white",
            "linecolor": "white",
            "ticks": ""
           },
           "baxis": {
            "gridcolor": "white",
            "linecolor": "white",
            "ticks": ""
           },
           "bgcolor": "#E5ECF6",
           "caxis": {
            "gridcolor": "white",
            "linecolor": "white",
            "ticks": ""
           }
          },
          "title": {
           "x": 0.05
          },
          "xaxis": {
           "automargin": true,
           "gridcolor": "white",
           "linecolor": "white",
           "ticks": "",
           "title": {
            "standoff": 15
           },
           "zerolinecolor": "white",
           "zerolinewidth": 2
          },
          "yaxis": {
           "automargin": true,
           "gridcolor": "white",
           "linecolor": "white",
           "ticks": "",
           "title": {
            "standoff": 15
           },
           "zerolinecolor": "white",
           "zerolinewidth": 2
          }
         }
        }
       }
      }
     },
     "metadata": {},
     "output_type": "display_data"
    }
   ],
   "source": [
    "# Create dimensions\n",
    "annualIncome_dim = go.parcats.Dimension(values=pqdf.AnnualIncome, label=\"Annual Income\")\n",
    "\n",
    "gpa_dim = go.parcats.Dimension(values=pqdf.GPA, label=\"GPA\")\n",
    "\n",
    "satisfaction_dim = go.parcats.Dimension(\n",
    "    values=pqdf.CurrentFeelCol, label=\"Satisfaction\", categoryarray=[1,2,3,4,5],\n",
    "    ticktext = ['Dissatisfied', \"Slightly Dissatisfied\", \"Neutral\", \"Somewhat Satisfied\", \"Satisfied\"]\n",
    ")\n",
    "\n",
    "# Create parcats trace\n",
    "color = pqdf.CurrentFeelCol\n",
    "fig = go.Figure(data = [go.Parcats(dimensions=[annualIncome_dim, gpa_dim, satisfaction_dim],\n",
    "        line={'color': color},\n",
    "        hoveron='category', hoverinfo='count+probability',\n",
    "        labelfont={'size': 18, 'family': 'Times'},\n",
    "        tickfont={'size': 16, 'family': 'Times'},\n",
    "        arrangement='freeform')])\n",
    "\n",
    "fig.show()"
   ]
  },
  {
   "cell_type": "markdown",
   "metadata": {},
   "source": [
    "Initially we just wanted to see if there was an impact on family annual income on gpa and from gpa to satisfaction. So we decided to use a parallel_coordinate graphs to see if there was a particular category that showed a specific pattern. The basic parallel coordinate graph showed an indication of such patterns specifically that people with 150k+ annual income had relativley high gpas and had a somewhat positive college experience. On the other hand, families with annual income of 50k-150k seemed to vary all over the place when it came to gpa and college experience. Families with lower than 50k annual income had high gpas but had varied college experiences. Looking at the data I decided to create a better graph that was more interactive and specific.\n",
    "\n",
    "The more specific graph confirmed the findings for families with annual income of 150k+. For families with annual incomes of 50-150k it appears that most students had high gpas but were neutral and somewhat satisfied for the most part although there were some students that seem dissatisfied with their college experience. This is also rather normal and in lin with the initial graph. The truly surprising data was for students whose family's annual income is less than 50k. Most of the students have a relativley/positive gpa but when it came to college satisfaction something seemed up. It appears that the second most said satisfaction level, right after neutral, is slight disatisfaction with the college experience.\n",
    "\n",
    "With all of this data in mind it appears that income may not have an effect on gpa, which is not what we expected as we thought students with more money would have access to more higher quality resources and thus a higher ration of above 3.0 or so gpa. As for the college experience category we expected that there wouldn't really be a relationship between income and satisfaction. In fact we were hoping there was a correlation between GPA and Satisfaction but this data not only shows that there is really no correlation but also that there may be a correlation between annual income and satisfaction. Specifically the lower your income the less satisfied you are with your college experience"
   ]
  },
  {
   "cell_type": "code",
   "execution_count": 7,
   "metadata": {},
   "outputs": [
    {
     "name": "stdout",
     "output_type": "stream",
     "text": [
      "1 5\n",
      "<class 'numpy.int32'>\n",
      "<class 'numpy.int8'>\n"
     ]
    }
   ],
   "source": [
    "# TODO: remove this testing section once testing is complete\n",
    "print(pqdf.CurrentFeelCol.min(), pqdf.CurrentFeelCol.max())\n",
    "print(type(pqdf.CurrentFeelCol[0]))\n",
    "print(type(pqdf.GPA_Category[0]))"
   ]
  },
  {
   "cell_type": "code",
   "execution_count": 8,
   "metadata": {},
   "outputs": [
    {
     "name": "stdout",
     "output_type": "stream",
     "text": [
      "3    26\n",
      "4    25\n",
      "2     7\n",
      "5     4\n",
      "1     2\n",
      "Name: CurrentFeelCol, dtype: int64\n",
      "3.5 - 4.0     35\n",
      "3.0 - 3.49    20\n",
      "2.5 - 2.99     6\n",
      "0 - 1.49       2\n",
      "2.0 - 2.49     1\n",
      "1.5 - 1.99     0\n",
      "Name: GPA, dtype: int64\n",
      "50k - 150k        33\n",
      "Less than 50k     19\n",
      "More than 150k    12\n",
      "Name: AnnualIncome, dtype: int64\n"
     ]
    }
   ],
   "source": [
    "print(pqdf.CurrentFeelCol.value_counts())\n",
    "print(pqdf.GPA.value_counts())\n",
    "print(pqdf.AnnualIncome.value_counts())"
   ]
  },
  {
   "cell_type": "code",
   "execution_count": 9,
   "metadata": {},
   "outputs": [
    {
     "name": "stdout",
     "output_type": "stream",
     "text": [
      "      AnnualIncome  CurrentFeelCol  count\n",
      "0       50k - 150k               1      1\n",
      "1       50k - 150k               2      2\n",
      "2       50k - 150k               3     16\n",
      "3       50k - 150k               4     13\n",
      "4       50k - 150k               5      1\n",
      "5    Less than 50k               1      1\n",
      "6    Less than 50k               2      5\n",
      "7    Less than 50k               3      6\n",
      "8    Less than 50k               4      4\n",
      "9    Less than 50k               5      3\n",
      "10  More than 150k               1      0\n",
      "11  More than 150k               2      0\n",
      "12  More than 150k               3      4\n",
      "13  More than 150k               4      8\n",
      "14  More than 150k               5      0\n"
     ]
    }
   ],
   "source": [
    "#print(pqdf.groupby(['AnnualIncome', 'GPA']).size().reset_index(name = 'count'))\n",
    "print(pqdf.groupby(['AnnualIncome', 'CurrentFeelCol']).size().reset_index(name = 'count'))\n"
   ]
  }
 ],
 "metadata": {
  "kernelspec": {
   "display_name": "Python 3.9.12 ('base')",
   "language": "python",
   "name": "python3"
  },
  "language_info": {
   "codemirror_mode": {
    "name": "ipython",
    "version": 3
   },
   "file_extension": ".py",
   "mimetype": "text/x-python",
   "name": "python",
   "nbconvert_exporter": "python",
   "pygments_lexer": "ipython3",
   "version": "3.9.12"
  },
  "orig_nbformat": 4,
  "vscode": {
   "interpreter": {
    "hash": "984227874f9940044bd041d1cfd0308eaa8d40441275bc1d127b1a36c49d1f76"
   }
  }
 },
 "nbformat": 4,
 "nbformat_minor": 2
}
